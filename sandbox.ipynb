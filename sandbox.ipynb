{
 "cells": [
  {
   "cell_type": "code",
   "execution_count": 1,
   "metadata": {},
   "outputs": [],
   "source": [
    "from dotenv import load_dotenv\n",
    "load_dotenv()\n",
    "import requests\n",
    "import json\n",
    "import os\n",
    "from pprint import pprint\n",
    "from utilities import *\n",
    "import pandas as pd\n",
    "import pygsheets\n",
    "from pangres import upsert\n",
    "from sqlalchemy import text, create_engine\n",
    "\n",
    "\n",
    "db_username = os.environ.get('db_username')\n",
    "db_host = os.environ.get('db_host')\n",
    "db_port = os.environ.get('db_port')\n",
    "db_password = os.environ.get('db_password')\n",
    "db_name = os.environ.get('db_name')\n",
    "\n",
    "api_key = os.environ.get('riot_api_key')\n",
    "my_puuid = os.environ.get('my_puuid')\n",
    "test_match = os.environ.get('test_match')\n",
    "rank1_puuid = os.environ.get('rank1_puuid')\n",
    "json_dir = \"JSONs\"\n",
    "\n",
    "service_account = pygsheets.authorize(service_account_file='JSONs/spreadsheetautomator-455618-bd558fe6d57a.json')\n",
    "\n",
    "with open(os.path.join(json_dir, \"archetype_items.json\"), \"r\") as file:\n",
    "    archetype_items = json.load(file)\n",
    "\n",
    "with open(os.path.join(json_dir, \"champ_classes.json\"), \"r\") as file:\n",
    "    classes = json.load(file)\n",
    "\n",
    "with open(os.path.join(json_dir, \"champ_items.json\"), \"r\") as file:\n",
    "    champ_items = json.load(file)\n",
    "\n",
    "with open(os.path.join(json_dir, \"champ_positions.json\"), \"r\") as file:\n",
    "    positions = json.load(file)\n",
    "\n",
    "with open(os.path.join(json_dir, \"most_recent.json\"), \"r\") as file:\n",
    "    recent = json.load(file)\n",
    "\n",
    "with open(os.path.join(json_dir, \"item_to_id.json\"), \"r\") as file:\n",
    "    item_to_id = json.load(file)\n",
    "\n",
    "with open(os.path.join(json_dir, \"perk_to_id.json\"), \"r\") as file:\n",
    "    perk_to_id = json.load(file)\n",
    "\n",
    "with open(os.path.join(json_dir, \"sums_to_id.json\"), \"r\") as file:\n",
    "    sums_to_id = json.load(file)\n",
    "\n",
    "item_to_id = {int(k): v for k, v in item_to_id.items()}\n",
    "perk_to_id = {int(k): v for k, v in perk_to_id.items()}\n",
    "sums_to_id = {int(k): v for k, v in sums_to_id.items()}\n",
    "\n",
    "def create_db_connection_string(db_username, db_password, db_host, db_port, db_name):\n",
    "    conn_url = \"postgresql+psycopg2://\"+db_username+\":\"+db_password+'@' + db_host + ':' + db_port + '/' + db_name\n",
    "    return conn_url\n",
    "\n",
    "conn_url = create_db_connection_string(db_username, db_password, db_host, db_port, db_name)\n",
    "\n",
    "db_engine = create_engine(conn_url, pool_recycle=3600)\n",
    "connection = db_engine.connect()\n",
    "\n"
   ]
  },
  {
   "cell_type": "code",
   "execution_count": 2,
   "metadata": {},
   "outputs": [
    {
     "data": {
      "text/html": [
       "<div>\n",
       "<style scoped>\n",
       "    .dataframe tbody tr th:only-of-type {\n",
       "        vertical-align: middle;\n",
       "    }\n",
       "\n",
       "    .dataframe tbody tr th {\n",
       "        vertical-align: top;\n",
       "    }\n",
       "\n",
       "    .dataframe thead th {\n",
       "        text-align: right;\n",
       "    }\n",
       "</style>\n",
       "<table border=\"1\" class=\"dataframe\">\n",
       "  <thead>\n",
       "    <tr style=\"text-align: right;\">\n",
       "      <th></th>\n",
       "      <th>match_id</th>\n",
       "      <th>game_start</th>\n",
       "      <th>game_end</th>\n",
       "      <th>kills</th>\n",
       "      <th>deaths</th>\n",
       "      <th>assists</th>\n",
       "      <th>gold_earned</th>\n",
       "      <th>gold_spent</th>\n",
       "      <th>champ_level</th>\n",
       "      <th>neutral_minions_killed</th>\n",
       "      <th>...</th>\n",
       "      <th>secondary_1</th>\n",
       "      <th>secondary_2</th>\n",
       "      <th>atakhan</th>\n",
       "      <th>baron</th>\n",
       "      <th>champion</th>\n",
       "      <th>dragon</th>\n",
       "      <th>grubs</th>\n",
       "      <th>inhibitor</th>\n",
       "      <th>tower</th>\n",
       "      <th>rift_herald</th>\n",
       "    </tr>\n",
       "  </thead>\n",
       "  <tbody>\n",
       "    <tr>\n",
       "      <th>0</th>\n",
       "      <td>NA1_5239301930</td>\n",
       "      <td>2025-02-28 20:42:23</td>\n",
       "      <td>2025-02-28 21:18:04</td>\n",
       "      <td>18</td>\n",
       "      <td>12</td>\n",
       "      <td>3</td>\n",
       "      <td>19913</td>\n",
       "      <td>18800</td>\n",
       "      <td>18</td>\n",
       "      <td>46</td>\n",
       "      <td>...</td>\n",
       "      <td>Biscuit Delivery</td>\n",
       "      <td>Approach Velocity</td>\n",
       "      <td>0</td>\n",
       "      <td>0</td>\n",
       "      <td>42</td>\n",
       "      <td>3</td>\n",
       "      <td>6</td>\n",
       "      <td>1</td>\n",
       "      <td>8</td>\n",
       "      <td>1</td>\n",
       "    </tr>\n",
       "  </tbody>\n",
       "</table>\n",
       "<p>1 rows × 82 columns</p>\n",
       "</div>"
      ],
      "text/plain": [
       "         match_id           game_start             game_end  kills  deaths  \\\n",
       "0  NA1_5239301930  2025-02-28 20:42:23  2025-02-28 21:18:04     18      12   \n",
       "\n",
       "   assists  gold_earned  gold_spent  champ_level  neutral_minions_killed  ...  \\\n",
       "0        3        19913       18800           18                      46  ...   \n",
       "\n",
       "        secondary_1        secondary_2 atakhan baron  champion  dragon  grubs  \\\n",
       "0  Biscuit Delivery  Approach Velocity       0     0        42       3      6   \n",
       "\n",
       "  inhibitor tower rift_herald  \n",
       "0         1     8           1  \n",
       "\n",
       "[1 rows x 82 columns]"
      ]
     },
     "execution_count": 2,
     "metadata": {},
     "output_type": "execute_result"
    }
   ],
   "source": [
    "parse_match_data('na1', test_match, my_puuid)"
   ]
  },
  {
   "cell_type": "code",
   "execution_count": 4,
   "metadata": {},
   "outputs": [
    {
     "data": {
      "text/html": [
       "<div>\n",
       "<style scoped>\n",
       "    .dataframe tbody tr th:only-of-type {\n",
       "        vertical-align: middle;\n",
       "    }\n",
       "\n",
       "    .dataframe tbody tr th {\n",
       "        vertical-align: top;\n",
       "    }\n",
       "\n",
       "    .dataframe thead th {\n",
       "        text-align: right;\n",
       "    }\n",
       "</style>\n",
       "<table border=\"1\" class=\"dataframe\">\n",
       "  <thead>\n",
       "    <tr style=\"text-align: right;\">\n",
       "      <th></th>\n",
       "    </tr>\n",
       "  </thead>\n",
       "  <tbody>\n",
       "  </tbody>\n",
       "</table>\n",
       "</div>"
      ],
      "text/plain": [
       "Empty DataFrame\n",
       "Columns: []\n",
       "Index: []"
      ]
     },
     "execution_count": 4,
     "metadata": {},
     "output_type": "execute_result"
    }
   ],
   "source": [
    "get_metabreakers_from_match_id('na1', test_match)"
   ]
  },
  {
   "cell_type": "code",
   "execution_count": 4,
   "metadata": {},
   "outputs": [],
   "source": [
    "# pd.set_option('display.max_rows', None)\n",
    "ladder = get_high_elo_players()"
   ]
  },
  {
   "cell_type": "code",
   "execution_count": 2,
   "metadata": {},
   "outputs": [
    {
     "name": "stdout",
     "output_type": "stream",
     "text": [
      "429 Forbidden - Retrying in 10 seconds...\n",
      "429 Forbidden - Retrying in 10 seconds...\n",
      "429 Forbidden - Retrying in 10 seconds...\n",
      "429 Forbidden - Retrying in 10 seconds...\n",
      "429 Forbidden - Retrying in 10 seconds...\n",
      "429 Forbidden - Retrying in 10 seconds...\n",
      "429 Forbidden - Retrying in 10 seconds...\n",
      "429 Forbidden - Retrying in 10 seconds...\n",
      "429 Forbidden - Retrying in 10 seconds...\n",
      "429 Forbidden - Retrying in 10 seconds...\n",
      "429 Forbidden - Retrying in 10 seconds...\n",
      "429 Forbidden - Retrying in 10 seconds...\n",
      "429 Forbidden - Retrying in 10 seconds...\n",
      "429 Forbidden - Retrying in 10 seconds...\n",
      "429 Forbidden - Retrying in 10 seconds...\n",
      "429 Forbidden - Retrying in 10 seconds...\n",
      "429 Forbidden - Retrying in 10 seconds...\n",
      "429 Forbidden - Retrying in 10 seconds...\n",
      "429 Forbidden - Retrying in 10 seconds...\n",
      "429 Forbidden - Retrying in 10 seconds...\n",
      "429 Forbidden - Retrying in 10 seconds...\n",
      "429 Forbidden - Retrying in 10 seconds...\n",
      "429 Forbidden - Retrying in 10 seconds...\n",
      "429 Forbidden - Retrying in 10 seconds...\n",
      "429 Forbidden - Retrying in 10 seconds...\n",
      "429 Forbidden - Retrying in 10 seconds...\n",
      "429 Forbidden - Retrying in 10 seconds...\n",
      "429 Forbidden - Retrying in 10 seconds...\n",
      "429 Forbidden - Retrying in 10 seconds...\n",
      "429 Forbidden - Retrying in 10 seconds...\n",
      "429 Forbidden - Retrying in 10 seconds...\n",
      "429 Forbidden - Retrying in 10 seconds...\n",
      "429 Forbidden - Retrying in 10 seconds...\n",
      "429 Forbidden - Retrying in 10 seconds...\n",
      "429 Forbidden - Retrying in 10 seconds...\n",
      "429 Forbidden - Retrying in 10 seconds...\n"
     ]
    },
    {
     "ename": "KeyError",
     "evalue": "'atakhan'",
     "output_type": "error",
     "traceback": [
      "\u001b[31m---------------------------------------------------------------------------\u001b[39m",
      "\u001b[31mKeyError\u001b[39m                                  Traceback (most recent call last)",
      "\u001b[36mCell\u001b[39m\u001b[36m \u001b[39m\u001b[32mIn[2]\u001b[39m\u001b[32m, line 1\u001b[39m\n\u001b[32m----> \u001b[39m\u001b[32m1\u001b[39m \u001b[43mfind_meta_breakers\u001b[49m\u001b[43m(\u001b[49m\u001b[43m)\u001b[49m\n",
      "\u001b[36mFile \u001b[39m\u001b[32m~/Desktop/misc/metabreaker/utilities.py:759\u001b[39m, in \u001b[36mfind_meta_breakers\u001b[39m\u001b[34m(region, player_count, matches_per_player)\u001b[39m\n\u001b[32m      0\u001b[39m <Error retrieving source code with stack_data see ipython/ipython#13598>\n",
      "\u001b[36mFile \u001b[39m\u001b[32m~/Desktop/misc/metabreaker/utilities.py:629\u001b[39m, in \u001b[36mget_metabreakers_from_match_id\u001b[39m\u001b[34m(region, matchId)\u001b[39m\n\u001b[32m      0\u001b[39m <Error retrieving source code with stack_data see ipython/ipython#13598>\n",
      "\u001b[36mFile \u001b[39m\u001b[32m~/Desktop/misc/metabreaker/utilities.py:490\u001b[39m, in \u001b[36mparse_match_data\u001b[39m\u001b[34m(region, matchId, puuid)\u001b[39m\n\u001b[32m    488\u001b[39m \u001b[38;5;28;01mfor\u001b[39;00m team \u001b[38;5;129;01min\u001b[39;00m info[\u001b[33m'\u001b[39m\u001b[33mteams\u001b[39m\u001b[33m'\u001b[39m]:\n\u001b[32m    489\u001b[39m     \u001b[38;5;28;01mif\u001b[39;00m team[\u001b[33m'\u001b[39m\u001b[33mteamId\u001b[39m\u001b[33m'\u001b[39m] == team_id:\n\u001b[32m--> \u001b[39m\u001b[32m490\u001b[39m         obj = team[\u001b[33m'\u001b[39m\u001b[33mobjectives\u001b[39m\u001b[33m'\u001b[39m]\n\u001b[32m    491\u001b[39m         atakhan = obj[\u001b[33m'\u001b[39m\u001b[33matakhan\u001b[39m\u001b[33m'\u001b[39m][\u001b[33m'\u001b[39m\u001b[33mkills\u001b[39m\u001b[33m'\u001b[39m]\n\u001b[32m    492\u001b[39m         baron = obj[\u001b[33m'\u001b[39m\u001b[33mbaron\u001b[39m\u001b[33m'\u001b[39m][\u001b[33m'\u001b[39m\u001b[33mkills\u001b[39m\u001b[33m'\u001b[39m]\n",
      "\u001b[31mKeyError\u001b[39m: 'atakhan'"
     ]
    }
   ],
   "source": [
    "find_meta_breakers()"
   ]
  },
  {
   "cell_type": "code",
   "execution_count": 4,
   "metadata": {},
   "outputs": [
    {
     "ename": "NameError",
     "evalue": "name 'get_anomalous_players' is not defined",
     "output_type": "error",
     "traceback": [
      "\u001b[31m---------------------------------------------------------------------------\u001b[39m",
      "\u001b[31mNameError\u001b[39m                                 Traceback (most recent call last)",
      "\u001b[36mCell\u001b[39m\u001b[36m \u001b[39m\u001b[32mIn[4]\u001b[39m\u001b[32m, line 1\u001b[39m\n\u001b[32m----> \u001b[39m\u001b[32m1\u001b[39m \u001b[43mget_anomalous_players\u001b[49m()\n",
      "\u001b[31mNameError\u001b[39m: name 'get_anomalous_players' is not defined"
     ]
    }
   ],
   "source": [
    "get_anomalous_players()"
   ]
  },
  {
   "cell_type": "code",
   "execution_count": null,
   "metadata": {},
   "outputs": [],
   "source": []
  }
 ],
 "metadata": {
  "kernelspec": {
   "display_name": ".venv",
   "language": "python",
   "name": "python3"
  },
  "language_info": {
   "codemirror_mode": {
    "name": "ipython",
    "version": 3
   },
   "file_extension": ".py",
   "mimetype": "text/x-python",
   "name": "python",
   "nbconvert_exporter": "python",
   "pygments_lexer": "ipython3",
   "version": "3.13.2"
  }
 },
 "nbformat": 4,
 "nbformat_minor": 2
}
